{
 "cells": [
  {
   "cell_type": "code",
   "execution_count": 1,
   "id": "e587d454",
   "metadata": {},
   "outputs": [],
   "source": [
    "import pandas as pd\n",
    "import numpy as np\n",
    "from scipy import stats\n",
    "import matplotlib.pyplot as plt\n",
    "import pandas_datareader as web\n",
    "import seaborn as sb\n",
    "import seaborn as mp\n",
    "import seaborn as cb\n",
    "import pandas_ta\n",
    "\n",
    "\n",
    "from sklearn import metrics\n",
    "from sklearn import preprocessing\n",
    "from sklearn.linear_model import LinearRegression\n",
    "from sklearn.model_selection import train_test_split\n",
    "from sklearn.metrics import mean_squared_error, r2_score, mean_absolute_error"
   ]
  },
  {
   "cell_type": "code",
   "execution_count": 2,
   "id": "05563886",
   "metadata": {},
   "outputs": [
    {
     "data": {
      "text/html": [
       "<div>\n",
       "<style scoped>\n",
       "    .dataframe tbody tr th:only-of-type {\n",
       "        vertical-align: middle;\n",
       "    }\n",
       "\n",
       "    .dataframe tbody tr th {\n",
       "        vertical-align: top;\n",
       "    }\n",
       "\n",
       "    .dataframe thead th {\n",
       "        text-align: right;\n",
       "    }\n",
       "</style>\n",
       "<table border=\"1\" class=\"dataframe\">\n",
       "  <thead>\n",
       "    <tr style=\"text-align: right;\">\n",
       "      <th></th>\n",
       "      <th>High</th>\n",
       "      <th>Low</th>\n",
       "      <th>Open</th>\n",
       "      <th>Close</th>\n",
       "      <th>Volume</th>\n",
       "      <th>Adj Close</th>\n",
       "    </tr>\n",
       "    <tr>\n",
       "      <th>Date</th>\n",
       "      <th></th>\n",
       "      <th></th>\n",
       "      <th></th>\n",
       "      <th></th>\n",
       "      <th></th>\n",
       "      <th></th>\n",
       "    </tr>\n",
       "  </thead>\n",
       "  <tbody>\n",
       "    <tr>\n",
       "      <th>2019-01-02</th>\n",
       "      <td>63.026001</td>\n",
       "      <td>59.759998</td>\n",
       "      <td>61.220001</td>\n",
       "      <td>62.023998</td>\n",
       "      <td>58293000.0</td>\n",
       "      <td>62.023998</td>\n",
       "    </tr>\n",
       "    <tr>\n",
       "      <th>2019-01-03</th>\n",
       "      <td>61.880001</td>\n",
       "      <td>59.476002</td>\n",
       "      <td>61.400002</td>\n",
       "      <td>60.071999</td>\n",
       "      <td>34826000.0</td>\n",
       "      <td>60.071999</td>\n",
       "    </tr>\n",
       "    <tr>\n",
       "      <th>2019-01-04</th>\n",
       "      <td>63.599998</td>\n",
       "      <td>60.546001</td>\n",
       "      <td>61.200001</td>\n",
       "      <td>63.537998</td>\n",
       "      <td>36970500.0</td>\n",
       "      <td>63.537998</td>\n",
       "    </tr>\n",
       "    <tr>\n",
       "      <th>2019-01-07</th>\n",
       "      <td>67.348000</td>\n",
       "      <td>63.549999</td>\n",
       "      <td>64.344002</td>\n",
       "      <td>66.991997</td>\n",
       "      <td>37756000.0</td>\n",
       "      <td>66.991997</td>\n",
       "    </tr>\n",
       "    <tr>\n",
       "      <th>2019-01-08</th>\n",
       "      <td>68.802002</td>\n",
       "      <td>65.403999</td>\n",
       "      <td>68.391998</td>\n",
       "      <td>67.070000</td>\n",
       "      <td>35042500.0</td>\n",
       "      <td>67.070000</td>\n",
       "    </tr>\n",
       "  </tbody>\n",
       "</table>\n",
       "</div>"
      ],
      "text/plain": [
       "                 High        Low       Open      Close      Volume  Adj Close\n",
       "Date                                                                         \n",
       "2019-01-02  63.026001  59.759998  61.220001  62.023998  58293000.0  62.023998\n",
       "2019-01-03  61.880001  59.476002  61.400002  60.071999  34826000.0  60.071999\n",
       "2019-01-04  63.599998  60.546001  61.200001  63.537998  36970500.0  63.537998\n",
       "2019-01-07  67.348000  63.549999  64.344002  66.991997  37756000.0  66.991997\n",
       "2019-01-08  68.802002  65.403999  68.391998  67.070000  35042500.0  67.070000"
      ]
     },
     "execution_count": 2,
     "metadata": {},
     "output_type": "execute_result"
    }
   ],
   "source": [
    "#Read data for Tesla stock from beginning of 2019 until now from yahoo to dataframe\n",
    "df = web.DataReader('TSLA',data_source = 'yahoo', start='2019-01-01',end='2021-11-01') \n",
    "df.head()"
   ]
  },
  {
   "cell_type": "code",
   "execution_count": 3,
   "id": "50e55724",
   "metadata": {},
   "outputs": [
    {
     "name": "stdout",
     "output_type": "stream",
     "text": [
      "<class 'pandas.core.frame.DataFrame'>\n",
      "DatetimeIndex: 715 entries, 2019-01-02 to 2021-11-01\n",
      "Data columns (total 6 columns):\n",
      " #   Column     Non-Null Count  Dtype  \n",
      "---  ------     --------------  -----  \n",
      " 0   High       715 non-null    float64\n",
      " 1   Low        715 non-null    float64\n",
      " 2   Open       715 non-null    float64\n",
      " 3   Close      715 non-null    float64\n",
      " 4   Volume     715 non-null    float64\n",
      " 5   Adj Close  715 non-null    float64\n",
      "dtypes: float64(6)\n",
      "memory usage: 39.1 KB\n"
     ]
    }
   ],
   "source": [
    "df.info()"
   ]
  },
  {
   "cell_type": "code",
   "execution_count": 4,
   "id": "d060b56a",
   "metadata": {},
   "outputs": [
    {
     "name": "stdout",
     "output_type": "stream",
     "text": [
      "<class 'pandas.core.frame.DataFrame'>\n",
      "DatetimeIndex: 715 entries, 2019-01-02 to 2021-11-01\n",
      "Data columns (total 1 columns):\n",
      " #   Column     Non-Null Count  Dtype  \n",
      "---  ------     --------------  -----  \n",
      " 0   Adj Close  715 non-null    float64\n",
      "dtypes: float64(1)\n",
      "memory usage: 11.2 KB\n"
     ]
    },
    {
     "data": {
      "text/html": [
       "<div>\n",
       "<style scoped>\n",
       "    .dataframe tbody tr th:only-of-type {\n",
       "        vertical-align: middle;\n",
       "    }\n",
       "\n",
       "    .dataframe tbody tr th {\n",
       "        vertical-align: top;\n",
       "    }\n",
       "\n",
       "    .dataframe thead th {\n",
       "        text-align: right;\n",
       "    }\n",
       "</style>\n",
       "<table border=\"1\" class=\"dataframe\">\n",
       "  <thead>\n",
       "    <tr style=\"text-align: right;\">\n",
       "      <th></th>\n",
       "      <th>Adj Close</th>\n",
       "    </tr>\n",
       "    <tr>\n",
       "      <th>Date</th>\n",
       "      <th></th>\n",
       "    </tr>\n",
       "  </thead>\n",
       "  <tbody>\n",
       "    <tr>\n",
       "      <th>2019-01-02</th>\n",
       "      <td>62.023998</td>\n",
       "    </tr>\n",
       "    <tr>\n",
       "      <th>2019-01-03</th>\n",
       "      <td>60.071999</td>\n",
       "    </tr>\n",
       "    <tr>\n",
       "      <th>2019-01-04</th>\n",
       "      <td>63.537998</td>\n",
       "    </tr>\n",
       "    <tr>\n",
       "      <th>2019-01-07</th>\n",
       "      <td>66.991997</td>\n",
       "    </tr>\n",
       "    <tr>\n",
       "      <th>2019-01-08</th>\n",
       "      <td>67.070000</td>\n",
       "    </tr>\n",
       "  </tbody>\n",
       "</table>\n",
       "</div>"
      ],
      "text/plain": [
       "            Adj Close\n",
       "Date                 \n",
       "2019-01-02  62.023998\n",
       "2019-01-03  60.071999\n",
       "2019-01-04  63.537998\n",
       "2019-01-07  66.991997\n",
       "2019-01-08  67.070000"
      ]
     },
     "execution_count": 4,
     "metadata": {},
     "output_type": "execute_result"
    }
   ],
   "source": [
    "#Keep values for adjusted close\n",
    "df = df[['Adj Close']]\n",
    "df.info()\n",
    "df.head()"
   ]
  },
  {
   "cell_type": "code",
   "execution_count": 5,
   "id": "de991513",
   "metadata": {},
   "outputs": [
    {
     "data": {
      "image/png": "[encoded data removed]",
      "text/plain": [
       "<Figure size 864x432 with 1 Axes>"
      ]
     },
     "metadata": {
      "needs_background": "light"
     },
     "output_type": "display_data"
    }
   ],
   "source": [
    "#Plot adj. close values\n",
    "plt.figure(figsize=(12, 6))\n",
    "plt.plot(df, label='TSLA Adj. close')\n",
    "plt.legend()\n",
    "plt.grid()\n",
    "plt.show()"
   ]
  },
  {
   "cell_type": "code",
   "execution_count": 6,
   "id": "75001a18",
   "metadata": {},
   "outputs": [
    {
     "data": {
      "text/html": [
       "<div>\n",
       "<style scoped>\n",
       "    .dataframe tbody tr th:only-of-type {\n",
       "        vertical-align: middle;\n",
       "    }\n",
       "\n",
       "    .dataframe tbody tr th {\n",
       "        vertical-align: top;\n",
       "    }\n",
       "\n",
       "    .dataframe thead th {\n",
       "        text-align: right;\n",
       "    }\n",
       "</style>\n",
       "<table border=\"1\" class=\"dataframe\">\n",
       "  <thead>\n",
       "    <tr style=\"text-align: right;\">\n",
       "      <th></th>\n",
       "      <th>Adj Close</th>\n",
       "      <th>EMA_20</th>\n",
       "    </tr>\n",
       "    <tr>\n",
       "      <th>Date</th>\n",
       "      <th></th>\n",
       "      <th></th>\n",
       "    </tr>\n",
       "  </thead>\n",
       "  <tbody>\n",
       "    <tr>\n",
       "      <th>2019-01-02</th>\n",
       "      <td>62.023998</td>\n",
       "      <td>NaN</td>\n",
       "    </tr>\n",
       "    <tr>\n",
       "      <th>2019-01-03</th>\n",
       "      <td>60.071999</td>\n",
       "      <td>NaN</td>\n",
       "    </tr>\n",
       "    <tr>\n",
       "      <th>2019-01-04</th>\n",
       "      <td>63.537998</td>\n",
       "      <td>NaN</td>\n",
       "    </tr>\n",
       "    <tr>\n",
       "      <th>2019-01-07</th>\n",
       "      <td>66.991997</td>\n",
       "      <td>NaN</td>\n",
       "    </tr>\n",
       "    <tr>\n",
       "      <th>2019-01-08</th>\n",
       "      <td>67.070000</td>\n",
       "      <td>NaN</td>\n",
       "    </tr>\n",
       "    <tr>\n",
       "      <th>2019-01-09</th>\n",
       "      <td>67.706001</td>\n",
       "      <td>NaN</td>\n",
       "    </tr>\n",
       "    <tr>\n",
       "      <th>2019-01-10</th>\n",
       "      <td>68.994003</td>\n",
       "      <td>NaN</td>\n",
       "    </tr>\n",
       "    <tr>\n",
       "      <th>2019-01-11</th>\n",
       "      <td>69.452003</td>\n",
       "      <td>NaN</td>\n",
       "    </tr>\n",
       "    <tr>\n",
       "      <th>2019-01-14</th>\n",
       "      <td>66.879997</td>\n",
       "      <td>NaN</td>\n",
       "    </tr>\n",
       "    <tr>\n",
       "      <th>2019-01-15</th>\n",
       "      <td>68.886002</td>\n",
       "      <td>NaN</td>\n",
       "    </tr>\n",
       "    <tr>\n",
       "      <th>2019-01-16</th>\n",
       "      <td>69.209999</td>\n",
       "      <td>NaN</td>\n",
       "    </tr>\n",
       "    <tr>\n",
       "      <th>2019-01-17</th>\n",
       "      <td>69.461998</td>\n",
       "      <td>NaN</td>\n",
       "    </tr>\n",
       "    <tr>\n",
       "      <th>2019-01-18</th>\n",
       "      <td>60.452000</td>\n",
       "      <td>NaN</td>\n",
       "    </tr>\n",
       "    <tr>\n",
       "      <th>2019-01-22</th>\n",
       "      <td>59.784000</td>\n",
       "      <td>NaN</td>\n",
       "    </tr>\n",
       "    <tr>\n",
       "      <th>2019-01-23</th>\n",
       "      <td>57.518002</td>\n",
       "      <td>NaN</td>\n",
       "    </tr>\n",
       "    <tr>\n",
       "      <th>2019-01-24</th>\n",
       "      <td>58.301998</td>\n",
       "      <td>NaN</td>\n",
       "    </tr>\n",
       "    <tr>\n",
       "      <th>2019-01-25</th>\n",
       "      <td>59.408001</td>\n",
       "      <td>NaN</td>\n",
       "    </tr>\n",
       "    <tr>\n",
       "      <th>2019-01-28</th>\n",
       "      <td>59.276001</td>\n",
       "      <td>NaN</td>\n",
       "    </tr>\n",
       "    <tr>\n",
       "      <th>2019-01-29</th>\n",
       "      <td>59.492001</td>\n",
       "      <td>NaN</td>\n",
       "    </tr>\n",
       "    <tr>\n",
       "      <th>2019-01-30</th>\n",
       "      <td>61.754002</td>\n",
       "      <td>63.8136</td>\n",
       "    </tr>\n",
       "  </tbody>\n",
       "</table>\n",
       "</div>"
      ],
      "text/plain": [
       "            Adj Close   EMA_20\n",
       "Date                          \n",
       "2019-01-02  62.023998      NaN\n",
       "2019-01-03  60.071999      NaN\n",
       "2019-01-04  63.537998      NaN\n",
       "2019-01-07  66.991997      NaN\n",
       "2019-01-08  67.070000      NaN\n",
       "2019-01-09  67.706001      NaN\n",
       "2019-01-10  68.994003      NaN\n",
       "2019-01-11  69.452003      NaN\n",
       "2019-01-14  66.879997      NaN\n",
       "2019-01-15  68.886002      NaN\n",
       "2019-01-16  69.209999      NaN\n",
       "2019-01-17  69.461998      NaN\n",
       "2019-01-18  60.452000      NaN\n",
       "2019-01-22  59.784000      NaN\n",
       "2019-01-23  57.518002      NaN\n",
       "2019-01-24  58.301998      NaN\n",
       "2019-01-25  59.408001      NaN\n",
       "2019-01-28  59.276001      NaN\n",
       "2019-01-29  59.492001      NaN\n",
       "2019-01-30  61.754002  63.8136"
      ]
     },
     "execution_count": 6,
     "metadata": {},
     "output_type": "execute_result"
    }
   ],
   "source": [
    "#Calculate and append 20-day exponential moving average\n",
    "df.ta.ema(close='adj Close', length=20, append=True)\n",
    "df.head(20)"
   ]
  },
  {
   "cell_type": "code",
   "execution_count": 7,
   "id": "75bb1cc6",
   "metadata": {},
   "outputs": [
    {
     "data": {
      "text/html": [
       "<div>\n",
       "<style scoped>\n",
       "    .dataframe tbody tr th:only-of-type {\n",
       "        vertical-align: middle;\n",
       "    }\n",
       "\n",
       "    .dataframe tbody tr th {\n",
       "        vertical-align: top;\n",
       "    }\n",
       "\n",
       "    .dataframe thead th {\n",
       "        text-align: right;\n",
       "    }\n",
       "</style>\n",
       "<table border=\"1\" class=\"dataframe\">\n",
       "  <thead>\n",
       "    <tr style=\"text-align: right;\">\n",
       "      <th></th>\n",
       "      <th>Adj Close</th>\n",
       "      <th>EMA_20</th>\n",
       "    </tr>\n",
       "    <tr>\n",
       "      <th>Date</th>\n",
       "      <th></th>\n",
       "      <th></th>\n",
       "    </tr>\n",
       "  </thead>\n",
       "  <tbody>\n",
       "    <tr>\n",
       "      <th>2019-01-30</th>\n",
       "      <td>61.754002</td>\n",
       "      <td>63.813600</td>\n",
       "    </tr>\n",
       "    <tr>\n",
       "      <th>2019-01-31</th>\n",
       "      <td>61.403999</td>\n",
       "      <td>63.584114</td>\n",
       "    </tr>\n",
       "    <tr>\n",
       "      <th>2019-02-01</th>\n",
       "      <td>62.442001</td>\n",
       "      <td>63.475342</td>\n",
       "    </tr>\n",
       "    <tr>\n",
       "      <th>2019-02-04</th>\n",
       "      <td>62.577999</td>\n",
       "      <td>63.389880</td>\n",
       "    </tr>\n",
       "    <tr>\n",
       "      <th>2019-02-05</th>\n",
       "      <td>64.269997</td>\n",
       "      <td>63.473701</td>\n",
       "    </tr>\n",
       "    <tr>\n",
       "      <th>2019-02-06</th>\n",
       "      <td>63.444000</td>\n",
       "      <td>63.470872</td>\n",
       "    </tr>\n",
       "    <tr>\n",
       "      <th>2019-02-07</th>\n",
       "      <td>61.501999</td>\n",
       "      <td>63.283361</td>\n",
       "    </tr>\n",
       "    <tr>\n",
       "      <th>2019-02-08</th>\n",
       "      <td>61.160000</td>\n",
       "      <td>63.081136</td>\n",
       "    </tr>\n",
       "    <tr>\n",
       "      <th>2019-02-11</th>\n",
       "      <td>62.568001</td>\n",
       "      <td>63.032266</td>\n",
       "    </tr>\n",
       "    <tr>\n",
       "      <th>2019-02-12</th>\n",
       "      <td>62.362000</td>\n",
       "      <td>62.968431</td>\n",
       "    </tr>\n",
       "  </tbody>\n",
       "</table>\n",
       "</div>"
      ],
      "text/plain": [
       "            Adj Close     EMA_20\n",
       "Date                            \n",
       "2019-01-30  61.754002  63.813600\n",
       "2019-01-31  61.403999  63.584114\n",
       "2019-02-01  62.442001  63.475342\n",
       "2019-02-04  62.577999  63.389880\n",
       "2019-02-05  64.269997  63.473701\n",
       "2019-02-06  63.444000  63.470872\n",
       "2019-02-07  61.501999  63.283361\n",
       "2019-02-08  61.160000  63.081136\n",
       "2019-02-11  62.568001  63.032266\n",
       "2019-02-12  62.362000  62.968431"
      ]
     },
     "execution_count": 7,
     "metadata": {},
     "output_type": "execute_result"
    }
   ],
   "source": [
    "#Remove first 19 (NaN) entries\n",
    "df = df.iloc[19:]\n",
    "df.head(10)"
   ]
  },
  {
   "cell_type": "code",
   "execution_count": 8,
   "id": "6f9aab78",
   "metadata": {},
   "outputs": [
    {
     "data": {
      "image/png": "[encoded data removed]",
      "text/plain": [
       "<Figure size 864x432 with 1 Axes>"
      ]
     },
     "metadata": {
      "needs_background": "light"
     },
     "output_type": "display_data"
    }
   ],
   "source": [
    "#Plot 20-day EMA against adjusted close\n",
    "plt.gcf().set_size_inches(12, 6, forward=True)\n",
    "plt.plot(df['Adj Close'], label='TSLA Adj. close')\n",
    "plt.plot(df['EMA_20'], label='Exponential moving avg.')\n",
    "plt.legend()\n",
    "plt.grid()"
   ]
  },
  {
   "cell_type": "code",
   "execution_count": 9,
   "id": "9c82313f",
   "metadata": {},
   "outputs": [],
   "source": [
    "#Split values for adj. close and EMA into train and test sets (80/20)\n",
    "x_train, x_test, y_train, y_test = train_test_split(df[['Adj Close']], df[['EMA_20']], test_size=0.2)"
   ]
  },
  {
   "cell_type": "code",
   "execution_count": 10,
   "id": "20d17888",
   "metadata": {},
   "outputs": [
    {
     "data": {
      "text/plain": [
       "LinearRegression()"
      ]
     },
     "execution_count": 10,
     "metadata": {},
     "output_type": "execute_result"
    }
   ],
   "source": [
    "#Train model using sklearn.linear_model.LinearRegression\n",
    "lr = LinearRegression()\n",
    "lr.fit(x_train, y_train)"
   ]
  },
  {
   "cell_type": "code",
   "execution_count": 11,
   "id": "22535233",
   "metadata": {},
   "outputs": [
    {
     "name": "stdout",
     "output_type": "stream",
     "text": [
      "             Adj Close\n",
      "Date                  \n",
      "2021-01-07  816.039978\n",
      "2020-07-29  299.821991\n",
      "2021-07-07  644.650024\n",
      "2019-06-26   43.854000\n",
      "2020-08-18  377.417999\n",
      "...                ...\n",
      "2020-09-10  371.339996\n",
      "2020-03-13  109.323997\n",
      "2020-03-26  105.632004\n",
      "2019-07-11   47.720001\n",
      "2021-03-04  621.440002\n",
      "\n",
      "[140 rows x 1 columns]\n"
     ]
    },
    {
     "data": {
      "text/plain": [
       "0.9838163874637229"
      ]
     },
     "execution_count": 11,
     "metadata": {},
     "output_type": "execute_result"
    }
   ],
   "source": [
    "#Predict price from test values, calculate coefficient of determination\n",
    "y_pred=lr.predict(x_test)\n",
    "print(x_test)\n",
    "lr.score(y_pred,x_test)"
   ]
  },
  {
   "cell_type": "code",
   "execution_count": 12,
   "id": "31883e15",
   "metadata": {},
   "outputs": [
    {
     "data": {
      "image/png": "[encoded data removed]",
      "text/plain": [
       "<Figure size 864x432 with 1 Axes>"
      ]
     },
     "metadata": {
      "needs_background": "light"
     },
     "output_type": "display_data"
    }
   ],
   "source": [
    "plt.gcf().set_size_inches(12, 6, forward=True)\n",
    "plt.scatter(x_test, y_test, color='black', label='Test')\n",
    "plt.plot(x_test, y_pred, label='Prediction')\n",
    "#plt.plot(df['EMA_20'], label='Exponential moving avg.')\n",
    "plt.legend()\n",
    "plt.grid()"
   ]
  },
  {
   "cell_type": "code",
   "execution_count": null,
   "id": "71d6c685",
   "metadata": {},
   "outputs": [],
   "source": []
  }
 ],
 "metadata": {
  "kernelspec": {
   "display_name": "Python 3 (ipykernel)",
   "language": "python",
   "name": "python3"
  },
  "language_info": {
   "codemirror_mode": {
    "name": "ipython",
    "version": 3
   },
   "file_extension": ".py",
   "mimetype": "text/x-python",
   "name": "python",
   "nbconvert_exporter": "python",
   "pygments_lexer": "ipython3",
   "version": "3.8.11"
  }
 },
 "nbformat": 4,
 "nbformat_minor": 5
}
